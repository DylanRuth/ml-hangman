{
 "cells": [
  {
   "cell_type": "code",
   "execution_count": 2,
   "metadata": {},
   "outputs": [],
   "source": [
    "import random\n",
    "import numpy as np\n",
    "from sklearn.model_selection import train_test_split\n",
    "from sklearn.ensemble import RandomForestClassifier\n",
    "from sklearn.metrics import accuracy_score\n",
    "from collections import Counter\n",
    "import random"
   ]
  },
  {
   "cell_type": "code",
   "execution_count": 3,
   "metadata": {},
   "outputs": [],
   "source": [
    "\n",
    "with open('words_250000_train.txt', 'r') as f:\n",
    "    words = f.read().splitlines()\n",
    "\n",
    "train_words, val_words = train_test_split(words, test_size=0.1, random_state=42)"
   ]
  },
  {
   "cell_type": "code",
   "execution_count": 4,
   "metadata": {},
   "outputs": [
    {
     "name": "stdout",
     "output_type": "stream",
     "text": [
      "[('c a s t _ _ _', 'a'), ('t _ _ _ _ x _ a _', 'e'), ('_ _ _ _ _ a d', 'e'), ('_ c a _ l e _ _ _ n e _', 'i'), ('_ _ _ _ _ _ _ _', 'e'), ('u _ _ h _ u _ t _', 'r'), ('p t e r y l o l o g _ c a l', 'i'), ('_ h a h z a d a _', 's'), ('_ r a s u _ _ s', 'e'), ('n _ n _ _ q _ _ s i t i _ n', 'e')]\n"
     ]
    }
   ],
   "source": [
    "def character_frequency(word_list):\n",
    "    return Counter(''.join(word_list))\n",
    "\n",
    "def generate_training_examples(word_list):\n",
    "    training_examples = []\n",
    "    for i in range(5):  # Generate 5 training examples for each word\n",
    "        for word in word_list:\n",
    "            chars = list(word)\n",
    "            # Randomly select characters to remove\n",
    "            indices_to_remove = random.sample(range(len(chars)), random.randint(1, len(chars)))\n",
    "            # Collect the removed characters\n",
    "            removed_chars = [chars[i] for i in indices_to_remove]\n",
    "            for i in indices_to_remove:\n",
    "                chars[i] = '_'\n",
    "            highest_freq_char = max(removed_chars, key=lambda char: freq_counter[char])\n",
    "            # Add the modified word and highest frequency character to the training examples\n",
    "            training_examples.append((' '.join(chars), highest_freq_char))\n",
    "    return training_examples\n",
    "\n",
    "# Calculate character frequency from training words\n",
    "freq_counter = character_frequency(train_words)\n",
    "\n",
    "# Generate training examples for training and validation sets\n",
    "training_examples = generate_training_examples(train_words)\n",
    "val_examples = generate_training_examples(val_words)\n",
    "\n",
    "print(training_examples[0:10])"
   ]
  },
  {
   "cell_type": "code",
   "execution_count": 5,
   "metadata": {},
   "outputs": [],
   "source": [
    "def state_to_features(state):\n",
    "    features = np.zeros(26)\n",
    "    for char in state.replace(' ', ''):\n",
    "        if char != '_':\n",
    "            features[ord(char) - ord('a')] = 1\n",
    "    return features\n",
    "\n",
    "X = np.array([state_to_features(state) for state, _ in training_examples])\n",
    "y = np.array([ord(next_letter) - ord('a') for _, next_letter in training_examples])"
   ]
  },
  {
   "cell_type": "code",
   "execution_count": 6,
   "metadata": {},
   "outputs": [
    {
     "name": "stdout",
     "output_type": "stream",
     "text": [
      "Accuracy: 0.42\n"
     ]
    }
   ],
   "source": [
    "\n",
    "X_train, X_test, y_train, y_test = train_test_split(X, y, test_size=0.2, random_state=42)\n",
    "\n",
    "model = RandomForestClassifier(n_estimators=100, random_state=42)\n",
    "model.fit(X_train, y_train)\n",
    "\n",
    "y_pred = model.predict(X_test)\n",
    "accuracy = accuracy_score(y_test, y_pred)\n",
    "print(f'Accuracy: {accuracy:.2f}')"
   ]
  },
  {
   "cell_type": "code",
   "execution_count": 9,
   "metadata": {},
   "outputs": [
    {
     "name": "stdout",
     "output_type": "stream",
     "text": [
      "Next guess: e\n"
     ]
    }
   ],
   "source": [
    "def guess(current_word, guessed_letters):\n",
    "    features = state_to_features(current_word)\n",
    "    probabilities = model.predict_proba([features])[0]\n",
    "    sorted_indices = np.argsort(probabilities)[::-1]\n",
    "    \n",
    "    for index in sorted_indices:\n",
    "        letter = chr(index + ord('a'))\n",
    "        if letter not in guessed_letters:\n",
    "            return letter\n",
    "\n",
    "# Example usage\n",
    "current_word = '_ p p _ e'\n",
    "guessed_letters = {'t', 'r', 'i', 'o', 'u'}\n",
    "next_guess = guess(current_word, guessed_letters)\n",
    "print(f'Next guess: {next_guess}')"
   ]
  }
 ],
 "metadata": {
  "kernelspec": {
   "display_name": "base",
   "language": "python",
   "name": "python3"
  },
  "language_info": {
   "codemirror_mode": {
    "name": "ipython",
    "version": 3
   },
   "file_extension": ".py",
   "mimetype": "text/x-python",
   "name": "python",
   "nbconvert_exporter": "python",
   "pygments_lexer": "ipython3",
   "version": "3.7.12"
  }
 },
 "nbformat": 4,
 "nbformat_minor": 2
}
